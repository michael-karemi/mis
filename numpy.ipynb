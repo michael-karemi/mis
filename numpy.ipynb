{
  "nbformat": 4,
  "nbformat_minor": 0,
  "metadata": {
    "colab": {
      "provenance": [],
      "authorship_tag": "ABX9TyO68dsxcbQX7VrBSAcUGZDb",
      "include_colab_link": true
    },
    "kernelspec": {
      "name": "python3",
      "display_name": "Python 3"
    },
    "language_info": {
      "name": "python"
    }
  },
  "cells": [
    {
      "cell_type": "markdown",
      "metadata": {
        "id": "view-in-github",
        "colab_type": "text"
      },
      "source": [
        "<a href=\"https://colab.research.google.com/github/michael-karemi/my-ishh/blob/main/numpy.ipynb\" target=\"_parent\"><img src=\"https://colab.research.google.com/assets/colab-badge.svg\" alt=\"Open In Colab\"/></a>"
      ]
    },
    {
      "cell_type": "code",
      "source": [
        "import numpy as np\n",
        "arr = [6, 7, 8, 9]\n",
        "print(type(arr))"
      ],
      "metadata": {
        "colab": {
          "base_uri": "https://localhost:8080/"
        },
        "id": "lCo1qfooR1aA",
        "outputId": "58769521-2555-46e1-c2da-d76f68a1b2e1"
      },
      "execution_count": null,
      "outputs": [
        {
          "output_type": "stream",
          "name": "stdout",
          "text": [
            "<class 'list'>\n"
          ]
        }
      ]
    },
    {
      "cell_type": "code",
      "source": [
        "a = np.array(arr)\n",
        "print(type(a))"
      ],
      "metadata": {
        "colab": {
          "base_uri": "https://localhost:8080/"
        },
        "id": "X_xDDp9ZSFNw",
        "outputId": "b4f7766d-c314-4f73-882f-781d2200321b"
      },
      "execution_count": null,
      "outputs": [
        {
          "output_type": "stream",
          "name": "stdout",
          "text": [
            "<class 'numpy.ndarray'>\n"
          ]
        }
      ]
    },
    {
      "cell_type": "code",
      "source": [
        "print(a.shape)"
      ],
      "metadata": {
        "colab": {
          "base_uri": "https://localhost:8080/"
        },
        "id": "2-ktGFLwTzCk",
        "outputId": "0d0c6bc3-7f86-421a-9ec1-c1808d757544"
      },
      "execution_count": null,
      "outputs": [
        {
          "output_type": "stream",
          "name": "stdout",
          "text": [
            "(4,)\n"
          ]
        }
      ]
    },
    {
      "cell_type": "code",
      "source": [
        "print(a.dtype)"
      ],
      "metadata": {
        "colab": {
          "base_uri": "https://localhost:8080/"
        },
        "id": "eKBEwyApT6WP",
        "outputId": "516cc0db-bd6c-4b5d-b925-8111d27f37be"
      },
      "execution_count": null,
      "outputs": [
        {
          "output_type": "stream",
          "name": "stdout",
          "text": [
            "int64\n"
          ]
        }
      ]
    },
    {
      "cell_type": "code",
      "source": [
        "print(a.ndim)"
      ],
      "metadata": {
        "colab": {
          "base_uri": "https://localhost:8080/"
        },
        "id": "3GQt6-TdUA0e",
        "outputId": "251d14c0-9e93-40ca-f43c-0a372a8e126f"
      },
      "execution_count": null,
      "outputs": [
        {
          "output_type": "stream",
          "name": "stdout",
          "text": [
            "1\n"
          ]
        }
      ]
    },
    {
      "cell_type": "code",
      "source": [
        "b = np.array([[1, 2, 3], [4, 5, 6]])\n",
        "print(b)"
      ],
      "metadata": {
        "colab": {
          "base_uri": "https://localhost:8080/"
        },
        "id": "2mQbUlqyUH53",
        "outputId": "343e610b-5316-45a5-86f9-4db7f94710c5"
      },
      "execution_count": null,
      "outputs": [
        {
          "output_type": "stream",
          "name": "stdout",
          "text": [
            "[[1 2 3]\n",
            " [4 5 6]]\n"
          ]
        }
      ]
    },
    {
      "cell_type": "code",
      "source": [
        "print(b.ndim)"
      ],
      "metadata": {
        "colab": {
          "base_uri": "https://localhost:8080/"
        },
        "id": "qe5vvTxdUVtf",
        "outputId": "f33bd5d1-ad7d-4690-b4e2-89b0da64b746"
      },
      "execution_count": null,
      "outputs": [
        {
          "output_type": "stream",
          "name": "stdout",
          "text": [
            "2\n"
          ]
        }
      ]
    },
    {
      "cell_type": "code",
      "source": [
        "print(b.shape)"
      ],
      "metadata": {
        "colab": {
          "base_uri": "https://localhost:8080/"
        },
        "id": "7fKRIkUwUa4x",
        "outputId": "4ed5044f-cf3b-4cb3-c6f9-e478df14157d"
      },
      "execution_count": null,
      "outputs": [
        {
          "output_type": "stream",
          "name": "stdout",
          "text": [
            "(2, 3)\n"
          ]
        }
      ]
    },
    {
      "cell_type": "code",
      "source": [
        "np.random.random((2, 3))"
      ],
      "metadata": {
        "colab": {
          "base_uri": "https://localhost:8080/"
        },
        "id": "1KwTm_DVUglh",
        "outputId": "1f0289c9-5aef-4dd5-e8da-0bc56078a3e3"
      },
      "execution_count": null,
      "outputs": [
        {
          "output_type": "execute_result",
          "data": {
            "text/plain": [
              "array([[0.86292001, 0.57069682, 0.37746215],\n",
              "       [0.34259099, 0.62208804, 0.18984327]])"
            ]
          },
          "metadata": {},
          "execution_count": 9
        }
      ]
    },
    {
      "cell_type": "code",
      "source": [
        "np.zeros((2, 3))"
      ],
      "metadata": {
        "colab": {
          "base_uri": "https://localhost:8080/"
        },
        "id": "j4L51AX5VY2B",
        "outputId": "44fdea07-5bea-4cc4-af29-af3a8c81e74b"
      },
      "execution_count": null,
      "outputs": [
        {
          "output_type": "execute_result",
          "data": {
            "text/plain": [
              "array([[0., 0., 0.],\n",
              "       [0., 0., 0.]])"
            ]
          },
          "metadata": {},
          "execution_count": 10
        }
      ]
    },
    {
      "cell_type": "code",
      "source": [
        "np.ones((2 ,3))"
      ],
      "metadata": {
        "colab": {
          "base_uri": "https://localhost:8080/"
        },
        "id": "k29DjbOiVf5y",
        "outputId": "19886ee3-645f-48d5-891f-4c2712b0e3bc"
      },
      "execution_count": null,
      "outputs": [
        {
          "output_type": "execute_result",
          "data": {
            "text/plain": [
              "array([[1., 1., 1.],\n",
              "       [1., 1., 1.]])"
            ]
          },
          "metadata": {},
          "execution_count": 11
        }
      ]
    },
    {
      "cell_type": "code",
      "source": [
        "np.identity((4))"
      ],
      "metadata": {
        "colab": {
          "base_uri": "https://localhost:8080/"
        },
        "id": "jzSTsS0JVmOq",
        "outputId": "a069d397-60fd-40ab-ddb0-60b270b92401"
      },
      "execution_count": null,
      "outputs": [
        {
          "output_type": "execute_result",
          "data": {
            "text/plain": [
              "array([[1., 0., 0., 0.],\n",
              "       [0., 1., 0., 0.],\n",
              "       [0., 0., 1., 0.],\n",
              "       [0., 0., 0., 1.]])"
            ]
          },
          "metadata": {},
          "execution_count": 12
        }
      ]
    },
    {
      "cell_type": "code",
      "source": [
        "c = np.array([[2.5, 8.6, 6.5], [7.5, 6.5, 9.9]])\n",
        "d = np.array([[8.6, 4.8, 2.3], [5.5, 4.3, 7.7]])\n",
        "print(c+d)"
      ],
      "metadata": {
        "colab": {
          "base_uri": "https://localhost:8080/"
        },
        "id": "a50Hx9mrVx5D",
        "outputId": "57cb93de-5a32-4121-fc51-ccd7177850be"
      },
      "execution_count": null,
      "outputs": [
        {
          "output_type": "stream",
          "name": "stdout",
          "text": [
            "[[11.1 13.4  8.8]\n",
            " [13.  10.8 17.6]]\n"
          ]
        }
      ]
    },
    {
      "cell_type": "code",
      "source": [
        "print(c*d)"
      ],
      "metadata": {
        "colab": {
          "base_uri": "https://localhost:8080/"
        },
        "id": "Bi4d01fPWXnh",
        "outputId": "ad6a8155-0ba5-4ce0-bc0e-b716f00608b6"
      },
      "execution_count": null,
      "outputs": [
        {
          "output_type": "stream",
          "name": "stdout",
          "text": [
            "[[21.5  41.28 14.95]\n",
            " [41.25 27.95 76.23]]\n"
          ]
        }
      ]
    },
    {
      "cell_type": "code",
      "source": [
        "print((5*d)/c)"
      ],
      "metadata": {
        "colab": {
          "base_uri": "https://localhost:8080/"
        },
        "id": "W8L91nbFWcjb",
        "outputId": "f2d639c1-1acf-4dd9-bf34-a721465318a9"
      },
      "execution_count": null,
      "outputs": [
        {
          "output_type": "stream",
          "name": "stdout",
          "text": [
            "[[17.2         2.79069767  1.76923077]\n",
            " [ 3.66666667  3.30769231  3.88888889]]\n"
          ]
        }
      ]
    },
    {
      "cell_type": "code",
      "source": [
        "print(a[0],[2])"
      ],
      "metadata": {
        "colab": {
          "base_uri": "https://localhost:8080/"
        },
        "id": "NvDZZCO-hjiR",
        "outputId": "fac25d61-9183-4c35-d039-de36fee9905c"
      },
      "execution_count": 17,
      "outputs": [
        {
          "output_type": "stream",
          "name": "stdout",
          "text": [
            "6 [2]\n"
          ]
        }
      ]
    },
    {
      "cell_type": "code",
      "source": [
        "c = b.reshape(3, 2)\n",
        "c"
      ],
      "metadata": {
        "colab": {
          "base_uri": "https://localhost:8080/"
        },
        "id": "Oq6K3PeFjYqH",
        "outputId": "1a4022ff-e078-49e6-f68d-2cfa8a4c8345"
      },
      "execution_count": 21,
      "outputs": [
        {
          "output_type": "execute_result",
          "data": {
            "text/plain": [
              "array([[1, 2],\n",
              "       [3, 4],\n",
              "       [5, 6]])"
            ]
          },
          "metadata": {},
          "execution_count": 21
        }
      ]
    },
    {
      "cell_type": "code",
      "source": [
        "np.random.randint(100, size = (5, 5, 5))"
      ],
      "metadata": {
        "colab": {
          "base_uri": "https://localhost:8080/"
        },
        "id": "PCwxpt0ZktUU",
        "outputId": "338646a0-e177-4074-95ca-07a9ceb7dc94"
      },
      "execution_count": 25,
      "outputs": [
        {
          "output_type": "execute_result",
          "data": {
            "text/plain": [
              "array([[[56, 69, 75,  1, 78],\n",
              "        [48, 20, 13, 14, 72],\n",
              "        [58, 14, 26,  5,  6],\n",
              "        [ 2, 22, 21,  2, 22],\n",
              "        [85, 74, 70, 14, 49]],\n",
              "\n",
              "       [[45, 60, 22, 45, 45],\n",
              "        [28, 41, 38, 37, 88],\n",
              "        [95, 82, 25, 53, 44],\n",
              "        [57, 83, 13, 25, 69],\n",
              "        [10, 98, 75, 51, 87]],\n",
              "\n",
              "       [[63,  0, 77, 88, 24],\n",
              "        [86, 24, 15, 98, 40],\n",
              "        [66, 89, 66, 88, 30],\n",
              "        [81,  0,  9, 55, 92],\n",
              "        [14, 46,  7, 89, 86]],\n",
              "\n",
              "       [[88,  5, 63, 84, 68],\n",
              "        [ 5, 24, 14, 15, 34],\n",
              "        [17, 51, 27, 71, 49],\n",
              "        [86, 89, 47,  7, 81],\n",
              "        [47, 96, 92, 15, 12]],\n",
              "\n",
              "       [[75, 69, 31, 19, 69],\n",
              "        [57, 88, 76, 21,  4],\n",
              "        [33, 98, 97, 24, 82],\n",
              "        [70, 88, 78, 15, 83],\n",
              "        [98, 45, 82, 44, 30]]])"
            ]
          },
          "metadata": {},
          "execution_count": 25
        }
      ]
    },
    {
      "cell_type": "code",
      "source": [
        "d = np.random.binomial(n = 2, p = 0.5, size = 10)"
      ],
      "metadata": {
        "colab": {
          "base_uri": "https://localhost:8080/"
        },
        "id": "b-zmuyHrlWKR",
        "outputId": "772182a2-6107-4136-d504-72533b5aa1db"
      },
      "execution_count": 27,
      "outputs": [
        {
          "output_type": "execute_result",
          "data": {
            "text/plain": [
              "array([1, 1, 0, 2, 0, 0, 1, 1, 2, 0])"
            ]
          },
          "metadata": {},
          "execution_count": 27
        }
      ]
    },
    {
      "cell_type": "code",
      "source": [
        "np.mean(d)"
      ],
      "metadata": {
        "colab": {
          "base_uri": "https://localhost:8080/"
        },
        "id": "IgyHkXJNm0mU",
        "outputId": "101f150e-4449-458d-ba6b-a125943f9eb3"
      },
      "execution_count": 28,
      "outputs": [
        {
          "output_type": "execute_result",
          "data": {
            "text/plain": [
              "5.533333333333334"
            ]
          },
          "metadata": {},
          "execution_count": 28
        }
      ]
    }
  ]
}